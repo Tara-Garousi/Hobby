{
 "cells": [
  {
   "cell_type": "code",
   "execution_count": 11,
   "id": "a520dc8a-856e-4c53-96bf-e3cb38e755fe",
   "metadata": {},
   "outputs": [
    {
     "ename": "Terminator",
     "evalue": "",
     "output_type": "error",
     "traceback": [
      "\u001b[1;31m---------------------------------------------------------------------------\u001b[0m",
      "\u001b[1;31mTerminator\u001b[0m                                Traceback (most recent call last)",
      "Cell \u001b[1;32mIn[11], line 19\u001b[0m\n\u001b[0;32m     17\u001b[0m     rt(\u001b[38;5;241m50\u001b[39m)\n\u001b[0;32m     18\u001b[0m     rt(\u001b[38;5;241m40\u001b[39m)\n\u001b[1;32m---> 19\u001b[0m     fd(\u001b[38;5;241m500\u001b[39m)\n\u001b[0;32m     20\u001b[0m     rt(\u001b[38;5;241m120\u001b[39m)\n\u001b[0;32m     21\u001b[0m done()\n",
      "File \u001b[1;32m<string>:5\u001b[0m, in \u001b[0;36mfd\u001b[1;34m(distance)\u001b[0m\n",
      "\u001b[1;31mTerminator\u001b[0m: "
     ]
    }
   ],
   "source": [
    "from turtle import *\n",
    "import colorsys\n",
    "tracer(2)\n",
    "pensize(2)\n",
    "h = 0.2\n",
    "bgcolor(\"black\")\n",
    "lt(80)\n",
    "fd(180)\n",
    "lt(180)\n",
    "lt(80)\n",
    "\n",
    "for i in range (330):\n",
    "    c=colorsys.hsv_to_rgb(h,1,1)\n",
    "    color(c)\n",
    "    h+=0.004\n",
    "    fd(i)\n",
    "    rt(50)\n",
    "    rt(40)\n",
    "    fd(500)\n",
    "    rt(120)\n",
    "done()\n",
    "\n"
   ]
  },
  {
   "cell_type": "code",
   "execution_count": 10,
   "id": "911fb635-8cab-4e5a-9293-6d3f1895257a",
   "metadata": {},
   "outputs": [],
   "source": [
    "from turtle import *\n",
    "import colorsys\n",
    "tracer(4)\n",
    "pensize(2)\n",
    "h = 0.2\n",
    "bgcolor(\"gray\")\n",
    "lt(180)\n",
    "lt(180)\n",
    "lt(180)\n",
    "\n",
    "for i in range (330):\n",
    "    c=colorsys.hsv_to_rgb(h,1,1)\n",
    "    color(c)\n",
    "    h+=0.004\n",
    "    fd(i)\n",
    "    rt(50)\n",
    "    rt(40)\n",
    "    rt(120)\n",
    "done()"
   ]
  },
  {
   "cell_type": "code",
   "execution_count": 2,
   "id": "dce04194-6a01-4ddc-a18a-c60855b77739",
   "metadata": {},
   "outputs": [],
   "source": [
    "from turtle import *\n",
    "import colorsys\n",
    "tracer(4)\n",
    "pensize(2)\n",
    "h = 0.2\n",
    "bgcolor(\"purple\")\n",
    "lt(180)\n",
    "lt(180)\n",
    "# lt(180)\n",
    "\n",
    "for i in range (330):\n",
    "    c=colorsys.hsv_to_rgb(h,1,1)\n",
    "    color(c)\n",
    "    h+=0.004\n",
    "    fd(i)\n",
    "    rt(50)\n",
    "    # rt(40)\n",
    "    rt(120)\n",
    "done()"
   ]
  },
  {
   "cell_type": "code",
   "execution_count": 8,
   "id": "f7713248-f745-4b9d-9494-9d7101c03d9b",
   "metadata": {},
   "outputs": [],
   "source": [
    "from turtle import *\n",
    "import colorsys\n",
    "tracer(4)\n",
    "pensize(2)\n",
    "h = 0.2\n",
    "bgcolor(\"blue\")\n",
    "lt(180)\n",
    "lt(180)\n",
    "# lt(180)\n",
    "\n",
    "for i in range (330):\n",
    "    c=colorsys.hsv_to_rgb(h,1,1)\n",
    "    color(c)\n",
    "    h+=0.009\n",
    "    fd(i)\n",
    "    rt(50)\n",
    "    # rt(40)\n",
    "    rt(120)\n",
    "done()"
   ]
  },
  {
   "cell_type": "code",
   "execution_count": 13,
   "id": "25f0f8a5-638c-49c8-b177-3db5914a8504",
   "metadata": {},
   "outputs": [
    {
     "ename": "Terminator",
     "evalue": "",
     "output_type": "error",
     "traceback": [
      "\u001b[1;31m---------------------------------------------------------------------------\u001b[0m",
      "\u001b[1;31mTerminator\u001b[0m                                Traceback (most recent call last)",
      "Cell \u001b[1;32mIn[13], line 17\u001b[0m\n\u001b[0;32m     15\u001b[0m \u001b[38;5;28;01mfor\u001b[39;00m i \u001b[38;5;129;01min\u001b[39;00m \u001b[38;5;28mrange\u001b[39m(\u001b[38;5;241m330\u001b[39m):\n\u001b[0;32m     16\u001b[0m     c \u001b[38;5;241m=\u001b[39m colorsys\u001b[38;5;241m.\u001b[39mhsv_to_rgb(h, \u001b[38;5;241m1\u001b[39m, \u001b[38;5;241m1\u001b[39m)  \n\u001b[1;32m---> 17\u001b[0m     color(c)\n\u001b[0;32m     18\u001b[0m     h \u001b[38;5;241m+\u001b[39m\u001b[38;5;241m=\u001b[39m \u001b[38;5;241m0.004\u001b[39m \n\u001b[0;32m     20\u001b[0m     fd(i \u001b[38;5;241m+\u001b[39m \u001b[38;5;241m10\u001b[39m \u001b[38;5;241m*\u001b[39m math\u001b[38;5;241m.\u001b[39msin(i \u001b[38;5;241m/\u001b[39m \u001b[38;5;241m10\u001b[39m))  \n",
      "File \u001b[1;32m<string>:5\u001b[0m, in \u001b[0;36mcolor\u001b[1;34m(*args)\u001b[0m\n",
      "\u001b[1;31mTerminator\u001b[0m: "
     ]
    }
   ],
   "source": [
    "from turtle import *\n",
    "import colorsys\n",
    "import math\n",
    "\n",
    "tracer(2)\n",
    "pensize(2)\n",
    "h = 0.2\n",
    "bgcolor(\"black\")\n",
    "\n",
    "lt(80)\n",
    "fd(180)\n",
    "lt(180)\n",
    "lt(80)\n",
    "\n",
    "for i in range(330):\n",
    "    c = colorsys.hsv_to_rgb(h, 1, 1)  \n",
    "    color(c)\n",
    "    h += 0.004 \n",
    "\n",
    "    fd(i + 10 * math.sin(i / 10))  \n",
    "\n",
    "    rt(50)\n",
    "    rt(40 + 10 * math.cos(i / 20))  \n",
    "    fd(300 + 50 * math.sin(i / 15))  \n",
    "    rt(120)\n",
    "\n",
    "done()\n",
    "\n"
   ]
  },
  {
   "cell_type": "code",
   "execution_count": null,
   "id": "2ae8b45e-ec15-4625-9b13-a9af038af248",
   "metadata": {},
   "outputs": [],
   "source": []
  }
 ],
 "metadata": {
  "kernelspec": {
   "display_name": "Python 3 (ipykernel)",
   "language": "python",
   "name": "python3"
  },
  "language_info": {
   "codemirror_mode": {
    "name": "ipython",
    "version": 3
   },
   "file_extension": ".py",
   "mimetype": "text/x-python",
   "name": "python",
   "nbconvert_exporter": "python",
   "pygments_lexer": "ipython3",
   "version": "3.11.9"
  }
 },
 "nbformat": 4,
 "nbformat_minor": 5
}
